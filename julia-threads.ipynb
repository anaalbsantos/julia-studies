{
 "cells": [
  {
   "cell_type": "markdown",
   "metadata": {},
   "source": [
    "# multi-threading com julia ༜"
   ]
  },
  {
   "cell_type": "markdown",
   "metadata": {},
   "source": [
    "### ⋆ controle do número de threads\n",
    "1. argumento de comando: `-t` ou `--threads`\n",
    "2. variável de ambiente: `JULIA_NUM_THREADS`\n",
    "\n",
    "obs: pode ser testado com `Threads.nthreads()`\n",
    "\n",
    "### ⋆ funções e macros\n",
    "  *Threads.threadid()*\n",
    "    \n",
    "  Returna id da thread em execução (thread mestre tem id=1)\n",
    "\n",
    "  *Thread.@spawn t*\n",
    "\n",
    "  Aloca a task t para uma thread disponível\n",
    "  \n",
    "  Pode ser alocada para mais de uma thread em caso de loop\n",
    "\n",
    "  *fetch*\n",
    "  \n",
    "  Bloqueia a execução do programa até que a tarefa termine"
   ]
  },
  {
   "cell_type": "code",
   "execution_count": null,
   "metadata": {},
   "outputs": [],
   "source": [
    "x = Threads.@spawn begin\n",
    "    print(\"thread \", Threads.threadid(), \" somou: \" ) #apenas uma thread irá realizar a soma\n",
    "    sum(1:1_000_000)\n",
    "end\n",
    "\n",
    "print(fetch(x))"
   ]
  },
  {
   "cell_type": "code",
   "execution_count": null,
   "metadata": {},
   "outputs": [],
   "source": [
    "tasks = []\n",
    "for i in 1:4\n",
    "    push!(tasks, Threads.@spawn begin # cada thread irá realizar a soma de 1000 elementos por vez\n",
    "            println(Threads.threadid())\n",
    "            sum((i-1)*1_000+1:i*1_000)\n",
    "        end)\n",
    "end\n",
    "\n",
    "total = sum(fetch.(tasks)) # o ponto é para aplicar a função fetch a cada elemento do vetor tasks\n",
    "print(total)"
   ]
  },
  {
   "cell_type": "markdown",
   "metadata": {},
   "source": [
    "  *Thread.@threads*\n",
    "\n",
    "  Usada para paralelizar loops, dividindo automaticamente as iterações entre as threads disponíveis\n",
    "\n",
    "  Não precisa de `fetch`, pois ela garante que todas as iterações serão executadas"
   ]
  },
  {
   "cell_type": "code",
   "execution_count": null,
   "metadata": {},
   "outputs": [],
   "source": [
    "Threads.@threads for i in 1:4\n",
    "    println(\"Thread $(Threads.threadid()) executando iteração $i\")\n",
    "end"
   ]
  },
  {
   "cell_type": "code",
   "execution_count": null,
   "metadata": {},
   "outputs": [],
   "source": [
    "sum = 0\n",
    "Threads.@threads for i in 1:10\n",
    "    global sum += i\n",
    "end\n",
    "\n",
    "println(sum)"
   ]
  },
  {
   "cell_type": "markdown",
   "metadata": {},
   "source": [
    "### ⋆ condições de corrida\n",
    "\n",
    "Ocorrem em programas paralelos quando múltiplas threads ou processos tentam acessar ou modificar uma mesma variável ou recurso ao mesmo tempo. O resultado final pode depender da **ordem de execução das threads**, que não é garantida. Operações intermediárias podem ser interrompidas, resultando em atualizações incorretas ou valores inesperados."
   ]
  },
  {
   "cell_type": "code",
   "execution_count": null,
   "metadata": {},
   "outputs": [],
   "source": [
    "# exemplo\n",
    "soma = 0\n",
    "\n",
    "Threads.@threads for i in 1:10\n",
    "    global soma += i  # Várias threads acessam/modificam a variável ao mesmo tempo\n",
    "end\n",
    "\n",
    "println(soma)"
   ]
  },
  {
   "cell_type": "markdown",
   "metadata": {},
   "source": [
    "###  como evitar?\n",
    "  1. Uso de variáveis atômicas"
   ]
  },
  {
   "cell_type": "code",
   "execution_count": null,
   "metadata": {},
   "outputs": [],
   "source": [
    "using Base.Threads\n",
    "\n",
    "soma = Atomic{Int}(0)\n",
    "\n",
    "Threads.@threads for i in 1:10\n",
    "    atomic_add!(soma, i)  # Atualização segura\n",
    "end\n",
    "\n",
    "println(soma[])  # Acessa o valor real da variável atômica"
   ]
  },
  {
   "cell_type": "markdown",
   "metadata": {},
   "source": [
    "  2. Uso de *locks*"
   ]
  },
  {
   "cell_type": "code",
   "execution_count": null,
   "metadata": {},
   "outputs": [],
   "source": [
    "using Base.Threads\n",
    "\n",
    "my_lock = ReentrantLock()  # Cria a trava\n",
    "soma = 0\n",
    "\n",
    "Threads.@threads for i in 1:10\n",
    "    @lock my_lock global soma += i\n",
    "end\n",
    "\n",
    "println(soma)"
   ]
  }
 ],
 "metadata": {
  "kernelspec": {
   "display_name": "Julia 1.11.1",
   "language": "julia",
   "name": "julia-1.11"
  },
  "language_info": {
   "file_extension": ".jl",
   "mimetype": "application/julia",
   "name": "julia",
   "version": "1.11.1"
  }
 },
 "nbformat": 4,
 "nbformat_minor": 2
}
