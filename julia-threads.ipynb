{
 "cells": [
  {
   "cell_type": "markdown",
   "metadata": {},
   "source": [
    "# multi-threading com julia ༜"
   ]
  },
  {
   "cell_type": "markdown",
   "metadata": {},
   "source": [
    "### ⋆ controle do número de threads\n",
    "1. argumento de comando: `-t` ou `--threads`\n",
    "2. variável de ambiente: `JULIA_NUM_THREADS`\n",
    "\n",
    "obs: pode ser testado com `Threads.nthreads()`\n",
    "\n",
    "### ⋆ funções e macros\n",
    "  *Threads.threadid()*\n",
    "    \n",
    "  Returna id da thread em execução (thread mestre tem id=1)\n",
    "\n",
    "  *Thread.@spawn t*\n",
    "\n",
    "  Aloca a task t para uma thread disponível\n",
    "  \n",
    "  Pode ser alocada para mais de uma thread em caso de loop\n",
    "\n",
    "  *fetch*\n",
    "  \n",
    "  Bloqueia a execução do programa até que a tarefa termine"
   ]
  },
  {
   "cell_type": "code",
   "execution_count": null,
   "metadata": {},
   "outputs": [],
   "source": [
    "x = Threads.@spawn begin\n",
    "    print(\"thread \", Threads.threadid(), \" somou: \" ) #apenas uma thread irá realizar a soma\n",
    "    sum(1:1_000_000)\n",
    "end\n",
    "\n",
    "print(fetch(x))"
   ]
  },
  {
   "cell_type": "code",
   "execution_count": null,
   "metadata": {},
   "outputs": [],
   "source": [
    "tasks = []\n",
    "for i in 1:4\n",
    "    push!(tasks, Threads.@spawn begin # cada thread irá realizar a soma de 1000 elementos por vez\n",
    "            println(Threads.threadid())\n",
    "            sum((i-1)*1_000+1:i*1_000)\n",
    "        end)\n",
    "end\n",
    "\n",
    "total = sum(fetch.(tasks)) # o ponto é para aplicar a função fetch a cada elemento do vetor tasks\n",
    "print(total)"
   ]
  },
  {
   "cell_type": "markdown",
   "metadata": {},
   "source": [
    "  *Thread.@threads*\n",
    "\n",
    "  Usada para paralelizar loops, dividindo automaticamente as iterações entre as threads disponíveis\n",
    "\n",
    "  Não precisa de `fetch`, pois ela garante que todas as iterações serão executadas"
   ]
  },
  {
   "cell_type": "code",
   "execution_count": null,
   "metadata": {},
   "outputs": [],
   "source": [
    "Threads.@threads for i in 1:4\n",
    "    println(\"Thread $(Threads.threadid()) executando iteração $i\")\n",
    "end"
   ]
  },
  {
   "cell_type": "code",
   "execution_count": null,
   "metadata": {},
   "outputs": [],
   "source": [
    "sum = 0\n",
    "Threads.@threads for i in 1:10\n",
    "    global sum += i\n",
    "end\n",
    "\n",
    "println(sum)"
   ]
  },
  {
   "cell_type": "markdown",
   "metadata": {},
   "source": [
    "### ⋆ condições de corrida\n",
    "\n",
    "Ocorrem em programas paralelos quando múltiplas threads ou processos tentam acessar ou modificar uma mesma variável ou recurso ao mesmo tempo. O resultado final pode depender da **ordem de execução das threads**, que não é garantida. Operações intermediárias podem ser interrompidas, resultando em atualizações incorretas ou valores inesperados."
   ]
  },
  {
   "cell_type": "code",
   "execution_count": null,
   "metadata": {},
   "outputs": [],
   "source": [
    "# exemplo\n",
    "soma = 0\n",
    "\n",
    "Threads.@threads for i in 1:10\n",
    "    global soma += i  # Várias threads acessam/modificam a variável ao mesmo tempo\n",
    "end\n",
    "\n",
    "println(soma)"
   ]
  },
  {
   "cell_type": "markdown",
   "metadata": {},
   "source": [
    "###  como evitar?\n",
    "  1. Uso de variáveis atômicas"
   ]
  },
  {
   "cell_type": "code",
   "execution_count": null,
   "metadata": {},
   "outputs": [],
   "source": [
    "using Base.Threads\n",
    "\n",
    "soma = Atomic{Int}(0)\n",
    "\n",
    "Threads.@threads for i in 1:10\n",
    "    atomic_add!(soma, i)  # Atualização segura\n",
    "end\n",
    "\n",
    "println(soma[])  # Acessa o valor real da variável atômica"
   ]
  },
  {
   "cell_type": "markdown",
   "metadata": {},
   "source": [
    "  2. Uso de *locks*"
   ]
  },
  {
   "cell_type": "code",
   "execution_count": null,
   "metadata": {},
   "outputs": [],
   "source": [
    "using Base.Threads\n",
    "\n",
    "my_lock = ReentrantLock()  # Cria a trava\n",
    "soma = 0\n",
    "\n",
    "Threads.@threads for i in 1:10\n",
    "    @lock my_lock global soma += i\n",
    "end\n",
    "\n",
    "println(soma)"
   ]
  },
  {
   "cell_type": "markdown",
   "metadata": {},
   "source": [
    "### ⋆ exemplos com vetores\n",
    "1. Paralelizando uma soma em um vetor"
   ]
  },
  {
   "cell_type": "code",
   "execution_count": null,
   "metadata": {},
   "outputs": [],
   "source": [
    "using Base.Threads\n",
    "\n",
    "# Vetor a ser processado\n",
    "vetor = collect(1:1_000_000)\n",
    "\n",
    "# Resultado final\n",
    "soma_total = Atomic{Int}(0)\n",
    "\n",
    "# Paralelização com Threads\n",
    "Threads.@threads for i in 1:length(vetor)\n",
    "    atomic_add!(soma_total, vetor[i])  # Cada thread soma parte do vetor de forma segura\n",
    "end\n",
    "\n",
    "println(\"Soma total: \", soma_total[])"
   ]
  },
  {
   "cell_type": "markdown",
   "metadata": {},
   "source": [
    "2. Multiplicação de elementos de um vetor "
   ]
  },
  {
   "cell_type": "code",
   "execution_count": null,
   "metadata": {},
   "outputs": [],
   "source": [
    "using Base.Threads\n",
    "\n",
    "# Vetor inicial\n",
    "vetor = collect(1:1_000_000)\n",
    "resultado = Vector{Int}(undef, length(vetor))\n",
    "\n",
    "Threads.@threads for i in 1:length(vetor)\n",
    "    resultado[i] = vetor[i] * 2  # Cada thread processa um elemento\n",
    "end\n",
    "\n",
    "println(\"Primeiros 10 resultados: \", resultado[1:10])"
   ]
  },
  {
   "cell_type": "markdown",
   "metadata": {},
   "source": [
    "3. Filtragem de elementos pares de um vetor"
   ]
  },
  {
   "cell_type": "code",
   "execution_count": null,
   "metadata": {},
   "outputs": [],
   "source": [
    "\n",
    "# Vetor inicial\n",
    "vetor = collect(1:10^6)\n",
    "\n",
    "# Vetor para armazenar os pares\n",
    "pares = Atomic{Vector{Int}}(Vector{Int}())\n",
    "\n",
    "# Paraleliza a operação\n",
    "Threads.@threads for i in 1:length(vetor)\n",
    "    if vetor[i] % 2 == 0\n",
    "        # Adiciona o valor de forma segura\n",
    "        lock = ReentrantLock()\n",
    "        @lock lock push!(pares[], vetor[i])\n",
    "    end\n",
    "end\n",
    "\n",
    "println(\"Primeiros 10 pares: \", pares[][1:10])"
   ]
  },
  {
   "cell_type": "markdown",
   "metadata": {},
   "source": [
    "4. Produtor e Consumidor"
   ]
  },
  {
   "cell_type": "code",
   "execution_count": 1,
   "metadata": {},
   "outputs": [
    {
     "ename": "TaskFailedException",
     "evalue": "TaskFailedException\n\n    nested task error: MethodError: objects of type ReentrantLock are not callable\n    The object of type `ReentrantLock` exists, but no method is defined for this combination of argument types when trying to treat it as a callable object.\n    Stacktrace:\n     [1] producer()\n       @ Main c:\\Users\\6030a\\Downloads\\estudos\\julia\\jl_notebook_cell_df34fa98e69747e1a8f8a730347b8e2f_X26sZmlsZQ==.jl:17\n     [2] (::var\"#15#16\")()\n       @ Main c:\\Users\\6030a\\Downloads\\estudos\\julia\\jl_notebook_cell_df34fa98e69747e1a8f8a730347b8e2f_X26sZmlsZQ==.jl:55",
     "output_type": "error",
     "traceback": [
      "TaskFailedException\n",
      "\n",
      "    nested task error: MethodError: objects of type ReentrantLock are not callable\n",
      "    The object of type `ReentrantLock` exists, but no method is defined for this combination of argument types when trying to treat it as a callable object.\n",
      "    Stacktrace:\n",
      "     [1] producer()\n",
      "       @ Main c:\\Users\\6030a\\Downloads\\estudos\\julia\\jl_notebook_cell_df34fa98e69747e1a8f8a730347b8e2f_X26sZmlsZQ==.jl:17\n",
      "     [2] (::var\"#15#16\")()\n",
      "       @ Main c:\\Users\\6030a\\Downloads\\estudos\\julia\\jl_notebook_cell_df34fa98e69747e1a8f8a730347b8e2f_X26sZmlsZQ==.jl:55\n",
      "\n",
      "Stacktrace:\n",
      " [1] wait(t::Task)\n",
      "   @ Base .\\task.jl:370\n",
      " [2] fetch(t::Task)\n",
      "   @ Base .\\task.jl:390\n",
      " [3] top-level scope\n",
      "   @ c:\\Users\\6030a\\Downloads\\estudos\\julia\\jl_notebook_cell_df34fa98e69747e1a8f8a730347b8e2f_X26sZmlsZQ==.jl:59"
     ]
    }
   ],
   "source": [
    "using Base.Threads\n",
    "\n",
    "# Buffer compartilhado e configurações\n",
    "buffer = Vector{Int}()\n",
    "buffer_size = 10\n",
    "\n",
    "# Trava para sincronização\n",
    "lock = ReentrantLock()\n",
    "\n",
    "# Condições para controle do buffer\n",
    "not_empty = Condition()  # Buffer não está vazio\n",
    "not_full = Condition()   # Buffer não está cheio\n",
    "\n",
    "# Produtor\n",
    "function producer()\n",
    "    for i in 1:20\n",
    "        lock(lock) do\n",
    "            # Espera enquanto o buffer está cheio\n",
    "            while length(buffer) >= buffer_size\n",
    "                wait(not_full)\n",
    "            end\n",
    "\n",
    "            # Produz e adiciona ao buffer\n",
    "            push!(buffer, i)\n",
    "            println(\"Produzido: $i | Buffer: $buffer\")\n",
    "\n",
    "            # Notifica que o buffer não está vazio\n",
    "            notify(not_empty)\n",
    "        end\n",
    "        sleep(0.1)  # Simula tempo de produção\n",
    "    end\n",
    "end\n",
    "\n",
    "# Consumidor\n",
    "function consumer()\n",
    "    for _ in 1:20\n",
    "        lock(lock) do\n",
    "            # Espera enquanto o buffer está vazio\n",
    "            while isempty(buffer)\n",
    "                wait(not_empty)\n",
    "            end\n",
    "\n",
    "            # Consome do buffer\n",
    "            item = popfirst!(buffer)\n",
    "            println(\"Consumido: $item | Buffer: $buffer\")\n",
    "\n",
    "            # Notifica que o buffer não está cheio\n",
    "            notify(not_full)\n",
    "        end\n",
    "        sleep(0.2)  # Simula tempo de consumo\n",
    "    end\n",
    "end\n",
    "\n",
    "# Executa produtor e consumidor em threads diferentes\n",
    "t1 = @spawn producer()\n",
    "t2 = @spawn consumer()\n",
    "\n",
    "# Aguarda ambas as threads terminarem\n",
    "fetch(t1)\n",
    "fetch(t2)"
   ]
  }
 ],
 "metadata": {
  "kernelspec": {
   "display_name": "Julia 1.11.1",
   "language": "julia",
   "name": "julia-1.11"
  },
  "language_info": {
   "file_extension": ".jl",
   "mimetype": "application/julia",
   "name": "julia",
   "version": "1.11.1"
  }
 },
 "nbformat": 4,
 "nbformat_minor": 2
}
